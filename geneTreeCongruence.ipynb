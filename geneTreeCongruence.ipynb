{
 "cells": [
  {
   "cell_type": "code",
   "execution_count": 2,
   "metadata": {
    "collapsed": true
   },
   "outputs": [],
   "source": [
    "import familyanalyzer as fa\n",
    "XML = '/cs/research/external/home/naglover/HOGscore/HOG0152989.orthoxml+'"
   ]
  },
  {
   "cell_type": "code",
   "execution_count": 49,
   "metadata": {
    "collapsed": false
   },
   "outputs": [
    {
     "name": "stderr",
     "output_type": "stream",
     "text": [
      "Adding missing taxonomy annotation:   0% || Elapsed Time: 0:00:00 ETA:  --:--:--\r",
      "Adding missing taxonomy annotation: 100% || Elapsed Time: 0:00:00 ETA:  0:00:00\r",
      "Adding missing taxonomy annotation: 100% || Elapsed Time: 0:00:00 Time: 0:00:00\r\n"
     ]
    }
   ],
   "source": [
    "#Parse OrthoXML file, extract taxonomy, augment taxonomy\n",
    "op = fa.OrthoXMLParser(XML)  \n",
    "tax = fa.TaxonomyFactory.newTaxonomy(op)\n",
    "op.augmentTaxonomyInfo(tax)\n",
    "\n"
   ]
  },
  {
   "cell_type": "code",
   "execution_count": 52,
   "metadata": {
    "collapsed": false
   },
   "outputs": [
    {
     "name": "stderr",
     "output_type": "stream",
     "text": [
      "Getting histories:   0% |                | Elapsed Time: 0:00:00 ETA:  --:--:--\r",
      "Getting histories:   2% |                 | Elapsed Time: 0:00:00 ETA:  0:00:00\r",
      "Getting histories:   5% |                 | Elapsed Time: 0:00:00 ETA:  0:00:00\r",
      "Getting histories:   7% |#                | Elapsed Time: 0:00:00 ETA:  0:00:00\r",
      "Getting histories:  10% |#                | Elapsed Time: 0:00:00 ETA:  0:00:00\r",
      "Getting histories:  12% |##               | Elapsed Time: 0:00:00 ETA:  0:00:00\r",
      "Getting histories:  15% |##               | Elapsed Time: 0:00:00 ETA:  0:00:00\r",
      "Getting histories:  17% |##               | Elapsed Time: 0:00:00 ETA:  0:00:00\r",
      "Getting histories:  20% |###              | Elapsed Time: 0:00:00 ETA:  0:00:00\r",
      "Getting histories:  22% |###              | Elapsed Time: 0:00:00 ETA:  0:00:00\r",
      "Getting histories:  25% |####             | Elapsed Time: 0:00:00 ETA:  0:00:00\r",
      "Getting histories:  27% |####             | Elapsed Time: 0:00:00 ETA:  0:00:00\r",
      "Getting histories:  30% |#####            | Elapsed Time: 0:00:00 ETA:  0:00:00\r",
      "Getting histories:  32% |#####            | Elapsed Time: 0:00:00 ETA:  0:00:00\r",
      "Getting histories:  35% |#####            | Elapsed Time: 0:00:00 ETA:  0:00:00\r",
      "Getting histories:  37% |######           | Elapsed Time: 0:00:00 ETA:  0:00:00\r",
      "Getting histories:  40% |######           | Elapsed Time: 0:00:00 ETA:  0:00:00\r",
      "Getting histories:  42% |#######          | Elapsed Time: 0:00:00 ETA:  0:00:00\r",
      "Getting histories:  45% |#######          | Elapsed Time: 0:00:00 ETA:  0:00:00\r",
      "Getting histories:  47% |########         | Elapsed Time: 0:00:00 ETA:  0:00:00\r",
      "Getting histories:  50% |########         | Elapsed Time: 0:00:00 ETA:  0:00:00\r",
      "Getting histories:  52% |########         | Elapsed Time: 0:00:00 ETA:  0:00:00\r",
      "Getting histories:  55% |#########        | Elapsed Time: 0:00:00 ETA:  0:00:00\r",
      "Getting histories:  57% |#########        | Elapsed Time: 0:00:00 ETA:  0:00:00\r",
      "Getting histories:  60% |##########       | Elapsed Time: 0:00:00 ETA:  0:00:00\r",
      "Getting histories:  62% |##########       | Elapsed Time: 0:00:00 ETA:  0:00:00\r",
      "Getting histories:  65% |###########      | Elapsed Time: 0:00:00 ETA:  0:00:00\r",
      "Getting histories:  67% |###########      | Elapsed Time: 0:00:00 ETA:  0:00:00\r",
      "Getting histories:  70% |###########      | Elapsed Time: 0:00:00 ETA:  0:00:00\r",
      "Getting histories:  72% |############     | Elapsed Time: 0:00:00 ETA:  0:00:00\r",
      "Getting histories:  75% |############     | Elapsed Time: 0:00:00 ETA:  0:00:00\r",
      "Getting histories:  77% |#############    | Elapsed Time: 0:00:00 ETA:  0:00:00\r",
      "Getting histories:  80% |#############    | Elapsed Time: 0:00:00 ETA:  0:00:00\r",
      "Getting histories:  82% |##############   | Elapsed Time: 0:00:00 ETA:  0:00:00\r",
      "Getting histories:  85% |##############   | Elapsed Time: 0:00:00 ETA:  0:00:00\r",
      "Getting histories:  87% |##############   | Elapsed Time: 0:00:00 ETA:  0:00:00\r",
      "Getting histories:  90% |###############  | Elapsed Time: 0:00:00 ETA:  0:00:00\r",
      "Getting histories:  92% |###############  | Elapsed Time: 0:00:00 ETA:  0:00:00\r",
      "Getting histories:  95% |################ | Elapsed Time: 0:00:00 ETA:  0:00:00\r",
      "Getting histories:  97% |################ | Elapsed Time: 0:00:00 ETA:  0:00:00\r",
      "Getting histories: 100% |#################| Elapsed Time: 0:00:00 ETA:  0:00:00\r",
      "Getting histories: 100% |#################| Elapsed Time: 0:00:00 Time: 0:00:00\r\n",
      "Comparing:   0% |                        | Elapsed Time: 0:00:00 ETA:  --:--:--\r",
      "Comparing:   2% |                         | Elapsed Time: 0:00:00 ETA:  0:00:00\r",
      "Comparing:   5% |#                        | Elapsed Time: 0:00:00 ETA:  0:00:00\r",
      "Comparing:   7% |#                        | Elapsed Time: 0:00:00 ETA:  0:00:00\r",
      "Comparing:  10% |##                       | Elapsed Time: 0:00:00 ETA:  0:00:00\r",
      "Comparing:  12% |###                      | Elapsed Time: 0:00:00 ETA:  0:00:00\r",
      "Comparing:  15% |###                      | Elapsed Time: 0:00:00 ETA:  0:00:00\r",
      "Comparing:  17% |####                     | Elapsed Time: 0:00:00 ETA:  0:00:00\r",
      "Comparing:  20% |#####                    | Elapsed Time: 0:00:00 ETA:  0:00:00\r",
      "Comparing:  23% |#####                    | Elapsed Time: 0:00:00 ETA:  0:00:00\r",
      "Comparing:  25% |######                   | Elapsed Time: 0:00:00 ETA:  0:00:00\r",
      "Comparing:  28% |#######                  | Elapsed Time: 0:00:00 ETA:  0:00:00\r",
      "Comparing:  30% |#######                  | Elapsed Time: 0:00:00 ETA:  0:00:00\r",
      "Comparing:  33% |########                 | Elapsed Time: 0:00:00 ETA:  0:00:00\r",
      "Comparing:  35% |########                 | Elapsed Time: 0:00:00 ETA:  0:00:00\r",
      "Comparing:  38% |#########                | Elapsed Time: 0:00:00 ETA:  0:00:00\r",
      "Comparing:  41% |##########               | Elapsed Time: 0:00:00 ETA:  0:00:00\r",
      "Comparing:  43% |##########               | Elapsed Time: 0:00:00 ETA:  0:00:00\r",
      "Comparing:  46% |###########              | Elapsed Time: 0:00:00 ETA:  0:00:00\r",
      "Comparing:  48% |############             | Elapsed Time: 0:00:00 ETA:  0:00:00\r",
      "Comparing:  51% |############             | Elapsed Time: 0:00:00 ETA:  0:00:00\r",
      "Comparing:  53% |#############            | Elapsed Time: 0:00:00 ETA:  0:00:00\r",
      "Comparing:  56% |##############           | Elapsed Time: 0:00:00 ETA:  0:00:00\r",
      "Comparing:  58% |##############           | Elapsed Time: 0:00:00 ETA:  0:00:00\r",
      "Comparing:  61% |###############          | Elapsed Time: 0:00:00 ETA:  0:00:00\r",
      "Comparing:  64% |################         | Elapsed Time: 0:00:00 ETA:  0:00:00\r",
      "Comparing:  66% |################         | Elapsed Time: 0:00:00 ETA:  0:00:00\r",
      "Comparing:  69% |#################        | Elapsed Time: 0:00:00 ETA:  0:00:00\r",
      "Comparing:  71% |#################        | Elapsed Time: 0:00:00 ETA:  0:00:00\r",
      "Comparing:  74% |##################       | Elapsed Time: 0:00:00 ETA:  0:00:00\r",
      "Comparing:  76% |###################      | Elapsed Time: 0:00:00 ETA:  0:00:00\r",
      "Comparing:  79% |###################      | Elapsed Time: 0:00:00 ETA:  0:00:00\r",
      "Comparing:  82% |####################     | Elapsed Time: 0:00:00 ETA:  0:00:00\r",
      "Comparing:  84% |#####################    | Elapsed Time: 0:00:00 ETA:  0:00:00\r",
      "Comparing:  87% |#####################    | Elapsed Time: 0:00:00 ETA:  0:00:00\r",
      "Comparing:  89% |######################   | Elapsed Time: 0:00:00 ETA:  0:00:00\r",
      "Comparing:  92% |#######################  | Elapsed Time: 0:00:00 ETA:  0:00:00\r",
      "Comparing:  94% |#######################  | Elapsed Time: 0:00:00 ETA:  0:00:00\r",
      "Comparing:  97% |######################## | Elapsed Time: 0:00:00 ETA:  0:00:00\r",
      "Comparing: 100% |#########################| Elapsed Time: 0:00:00 ETA:  0:00:00\r",
      "Comparing: 100% |#########################| Elapsed Time: 0:00:00 Time: 0:00:00\r\n"
     ]
    }
   ],
   "source": [
    "tax.get_histories(op) # Generate FamHistory objects to store gene lists\n",
    "tax.get_comparisons(op)\n",
    "gtt = fa.GeneTreeTracer(op, tax)\n",
    "tax_node = tax[tax.root]\n",
    "for hog in hoglist:\n",
    "    gene_tree = gtt.trace_gene_family(tax_node, hog, None, False)\n",
    "newick_long = gene_tree.write()"
   ]
  },
  {
   "cell_type": "code",
   "execution_count": 65,
   "metadata": {
    "collapsed": false
   },
   "outputs": [
    {
     "name": "stdout",
     "output_type": "stream",
     "text": [
      "((\"Echinops telfairi\"[&&NHX:Genes=1:Identical=1:Duplicated=0:Lost=0:Novel=0:Singleton=0], \"Loxodonta africana\"[&&NHX:Genes=1:Identical=1:Duplicated=0:Lost=0:Novel=0:Singleton=0])Afrotheria[&&NHX:Genes=1:Identical=1:Duplicated=0:Lost=0:Novel=0:Singleton=0], ((((((\"Macaca mulatta\"[&&NHX:Genes=1:Identical=1:Duplicated=0:Lost=0:Novel=0:Singleton=0], (\"Pongo abelii\"[&&NHX:Genes=1:Identical=1:Duplicated=0:Lost=0:Novel=0:Singleton=0], (\"Homo sapiens\"[&&NHX:Genes=3:Identical=0:Duplicated=3:Lost=0:Novel=0:Singleton=0], \"Pan troglodytes\"[&&NHX:Genes=1:Identical=1:Duplicated=0:Lost=0:Novel=0:Singleton=0])Homininae[&&NHX:Genes=1:Identical=1:Duplicated=0:Lost=0:Novel=0:Singleton=0])Hominidae[&&NHX:Genes=1:Identical=1:Duplicated=0:Lost=0:Novel=0:Singleton=0])Catarrhini[&&NHX:Genes=1:Identical=1:Duplicated=0:Lost=0:Novel=0:Singleton=0], \"Callithrix jacchus\"[&&NHX:Genes=1:Identical=1:Duplicated=0:Lost=0:Novel=0:Singleton=0])Simiiformes[&&NHX:Genes=1:Identical=1:Duplicated=0:Lost=0:Novel=0:Singleton=0], \"Tarsius syrichta\"[&&NHX:Genes=1:Identical=1:Duplicated=0:Lost=0:Novel=0:Singleton=0])Haplorrhini[&&NHX:Genes=1:Identical=1:Duplicated=0:Lost=0:Novel=0:Singleton=0], \"Otolemur garnettii\"[&&NHX:Genes=1:Identical=1:Duplicated=0:Lost=0:Novel=0:Singleton=0])Primates[&&NHX:Genes=1:Identical=1:Duplicated=0:Lost=0:Novel=0:Singleton=0], (((\"Rattus norvegicus\"[&&NHX:Genes=3:Identical=0:Duplicated=3:Lost=0:Novel=0:Singleton=0], \"Mus musculus\"[&&NHX:Genes=1:Identical=1:Duplicated=0:Lost=0:Novel=0:Singleton=0])Murinae[&&NHX:Genes=1:Identical=1:Duplicated=0:Lost=0:Novel=0:Singleton=0], \"Spermophilus tridecemlineatus\"[&&NHX:Genes=1:Identical=1:Duplicated=0:Lost=0:Novel=0:Singleton=0], \"Dipodomys ordii\"[&&NHX:Genes=1:Identical=1:Duplicated=0:Lost=0:Novel=0:Singleton=0])Sciurognathi[&&NHX:Genes=1:Identical=1:Duplicated=0:Lost=0:Novel=0:Singleton=0], \"Oryctolagus cuniculus\"[&&NHX:Genes=1:Identical=1:Duplicated=0:Lost=0:Novel=0:Singleton=0])Glires[&&NHX:Genes=1:Identical=1:Duplicated=0:Lost=0:Novel=0:Singleton=0])Euarchontoglires[&&NHX:Genes=1:Identical=1:Duplicated=0:Lost=0:Novel=0:Singleton=0], ((\"Vicugna pacos\"[&&NHX:Genes=1:Identical=1:Duplicated=0:Lost=0:Novel=0:Singleton=0], \"Sus scrofa\"[&&NHX:Genes=1:Identical=1:Duplicated=0:Lost=0:Novel=0:Singleton=0], (\"Ovis aries\"[&&NHX:Genes=1:Identical=1:Duplicated=0:Lost=0:Novel=0:Singleton=0], \"Bos taurus\"[&&NHX:Genes=1:Identical=1:Duplicated=0:Lost=0:Novel=0:Singleton=0])Bovidae[&&NHX:Genes=1:Identical=1:Duplicated=0:Lost=0:Novel=0:Singleton=0])Cetartiodactyla[&&NHX:Genes=1:Identical=1:Duplicated=0:Lost=0:Novel=0:Singleton=0], \"Equus caballus\"[&&NHX:Genes=2:Identical=0:Duplicated=2:Lost=0:Novel=0:Singleton=0], (\"Felis catus\"[&&NHX:Genes=1:Identical=1:Duplicated=0:Lost=0:Novel=0:Singleton=0], \"Mustela putorius furo\"[&&NHX:Genes=1:Identical=1:Duplicated=0:Lost=0:Novel=0:Singleton=0])Carnivora[&&NHX:Genes=1:Identical=1:Duplicated=0:Lost=0:Novel=0:Singleton=0], \"Sorex araneus\"[&&NHX:Genes=2:Identical=0:Duplicated=2:Lost=0:Novel=0:Singleton=0])Laurasiatheria[&&NHX:Genes=1:Identical=1:Duplicated=0:Lost=0:Novel=0:Singleton=0])Boreoeutheria[&&NHX:Genes=1:Identical=1:Duplicated=0:Lost=0:Novel=0:Singleton=0], \"Choloepus hoffmanni\"[&&NHX:Genes=2:Identical=0:Duplicated=2:Lost=0:Novel=0:Singleton=0])Eutheria[&&NHX:Genes=1];\n"
     ]
    }
   ],
   "source": [
    "print(tax.newick())"
   ]
  },
  {
   "cell_type": "code",
   "execution_count": 53,
   "metadata": {
    "collapsed": false
   },
   "outputs": [
    {
     "name": "stdout",
     "output_type": "stream",
     "text": [
      "((ECHTE05596, LOXAF05609)Afrotheria, ((((((MACMU20172, (PONAB04505, ((HUMAN00001, HUMAN09883, HUMAN13752)DUP_1, PANTR18725)Homininae)Hominidae)Catarrhini, CALJA02046)Simiiformes, TARSY05187)Haplorrhini, OTOGA00136)Primates, ((((RATNO13711, RATNO13712, RATNO13713)DUP_2, MOUSE12747)Murinae, SPETR07379, DIPOR01107)Sciurognathi, RABIT15038)Glires)Euarchontoglires, ((VICPA06641, PIGXX18308, (SHEEP18028, BOVIN01193)Bovidae)Cetartiodactyla, (HORSE01285, HORSE01286)DUP_3, (FELCA06632, MUSPF00331)Carnivora, (SORAR00657, SORAR00835)DUP_4)Laurasiatheria)Boreoeutheria, (CHOHO00522, CHOHO02289)DUP_5)Eutheria\n"
     ]
    }
   ],
   "source": [
    "newick_short = re.sub(r'\\[.*?\\]', '',newick_long)\n",
    "print(newick_short)\n",
    "with open(\"/cs/research/external/home/naglover/HOGscore/testHOG.hog.tree\", \"w\") as f:\n",
    "    f.write(newick_short)"
   ]
  },
  {
   "cell_type": "code",
   "execution_count": 55,
   "metadata": {
    "collapsed": false
   },
   "outputs": [
    {
     "name": "stdout",
     "output_type": "stream",
     "text": [
      "LOXAF05609\n",
      "ECHTE05596\n",
      "RABIT15038\n",
      "DIPOR01107\n",
      "MOUSE12747\n",
      "RATNO13711\n",
      "RATNO13712\n",
      "RATNO13713\n",
      "SPETR07379\n",
      "MACMU20172\n",
      "HUMAN00001\n",
      "HUMAN09883\n",
      "HUMAN13752\n",
      "PANTR18725\n",
      "PONAB04505\n",
      "CALJA02046\n",
      "TARSY05187\n",
      "OTOGA00136\n",
      "MUSPF00331\n",
      "FELCA06632\n",
      "BOVIN01193\n",
      "SHEEP18028\n",
      "PIGXX18308\n",
      "VICPA06641\n",
      "SORAR00657\n",
      "SORAR00835\n",
      "HORSE01285\n",
      "HORSE01286\n",
      "CHOHO00522\n",
      "CHOHO02289\n"
     ]
    }
   ],
   "source": [
    "alltax = tax.histories[tax.root] #Finds the root of the taxonomy\n",
    "hoglist =  alltax.geneFamList\n",
    "for hog in hoglist:\n",
    "    for geneId in hog.getMemberGenes():\n",
    "        print(op.mapGeneToXRef(geneId,\"protId\"))"
   ]
  },
  {
   "cell_type": "code",
   "execution_count": 37,
   "metadata": {
    "collapsed": false
   },
   "outputs": [],
   "source": [
    "from Bio import SeqIO\n",
    "omaseqs_dict = SeqIO.index(\"/cs/research/external/home/naglover/HOGscore/HOG0203542.fasta\", \"fasta\")\n",
    "line = \"\"\n",
    "for hog in hoglist:\n",
    "    for geneId in hog.getMemberGenes():\n",
    "        line += \">\"+omaseqs_dict[op.mapGeneToXRef(geneId,\"protId\")].id+\"\\n\"\n",
    "        line += str(omaseqs_dict[op.mapGeneToXRef(geneId,\"protId\")].seq)+\"\\n\"\n",
    "filename = '/cs/research/external/home/naglover/HOGscore/testHOG.fasta'\n",
    "with open (filename, 'w') as outfile:\n",
    "    outfile.write(line)"
   ]
  },
  {
   "cell_type": "code",
   "execution_count": 38,
   "metadata": {
    "collapsed": false
   },
   "outputs": [
    {
     "data": {
      "text/plain": [
       "1"
      ]
     },
     "execution_count": 38,
     "metadata": {},
     "output_type": "execute_result"
    }
   ],
   "source": [
    "from Bio.Align.Applications import MafftCommandline\n",
    "from Bio import AlignIO\n",
    "\n",
    "mafft_cline = MafftCommandline(input=filename) #Create mafft command line\n",
    "stdout,stderr = mafft_cline() #save mafft output into variable\n",
    "\n",
    "msa_fasta = '/cs/research/external/home/naglover/HOGscore/testHOGmsa.fasta'\n",
    "with open(msa_fasta, 'w') as handle:\n",
    "    handle.write(stdout) #write mafft output in fasta format\n",
    "    \n",
    "msa_phy = '/cs/research/external/home/naglover/HOGscore/testHOG.phy'\n",
    "AlignIO.convert(msa_fasta,\"fasta\", msa_phy, \"phylip-relaxed\") #convert mafft output from fasta to phylip"
   ]
  },
  {
   "cell_type": "code",
   "execution_count": 66,
   "metadata": {
    "collapsed": false
   },
   "outputs": [],
   "source": [
    "from Bio.Phylo.Applications import PhymlCommandline\n",
    "\n",
    "cmdline = PhymlCommandline(\"/cs/research/external/home/naglover/programs/PhyML-3.1/PhyML-3.1_linux64\", input=msa_phy, datatype='aa', bootstrap=100)\n",
    "out_log, err_log = cmdline()"
   ]
  },
  {
   "cell_type": "code",
   "execution_count": 69,
   "metadata": {
    "collapsed": false
   },
   "outputs": [
    {
     "data": {
      "text/plain": [
       "0"
      ]
     },
     "execution_count": 69,
     "metadata": {},
     "output_type": "execute_result"
    }
   ],
   "source": [
    "import os\n",
    "cmd = \"collapse.py --threshold .50 /cs/research/external/home/naglover/HOGscore/testHOG.phy_phyml_tree.txt\"\n",
    "os.system(cmd)"
   ]
  },
  {
   "cell_type": "code",
   "execution_count": 101,
   "metadata": {
    "collapsed": false
   },
   "outputs": [],
   "source": [
    "import dendropy\n",
    "tree1 = dendropy.Tree(stream=open(\"/cs/research/external/home/naglover/HOGscore/testHOG.phy_phyml_tree-collapse.txt\"), schema=\"newick\")\n",
    "tree2 = dendropy.Tree.get_from_string(newick_short, schema=\"newick\")\n",
    "diff = tree1.symmetric_difference(tree2)"
   ]
  },
  {
   "cell_type": "code",
   "execution_count": 108,
   "metadata": {
    "collapsed": false
   },
   "outputs": [
    {
     "name": "stdout",
     "output_type": "stream",
     "text": [
      "0.259259259259\n"
     ]
    }
   ],
   "source": [
    "tree1_edge_length = len(list(tree1.preorder_edge_iter(filter_fn=lambda x: x is not tree1.seed_node.edge)))\n",
    "tree2_edge_length = len(list(tree2.preorder_edge_iter(filter_fn=lambda x: x is not tree2.seed_node.edge)))\n",
    "\n",
    "hog_metric = 1.0*diff/(tree1_edge_length + tree2_edge_length)\n",
    "print(hog_metric)"
   ]
  },
  {
   "cell_type": "code",
   "execution_count": null,
   "metadata": {
    "collapsed": true
   },
   "outputs": [],
   "source": []
  }
 ],
 "metadata": {
  "kernelspec": {
   "display_name": "Python 2",
   "language": "python",
   "name": "python2"
  },
  "language_info": {
   "codemirror_mode": {
    "name": "ipython",
    "version": 2
   },
   "file_extension": ".py",
   "mimetype": "text/x-python",
   "name": "python",
   "nbconvert_exporter": "python",
   "pygments_lexer": "ipython2",
   "version": "2.7.9"
  }
 },
 "nbformat": 4,
 "nbformat_minor": 0
}
